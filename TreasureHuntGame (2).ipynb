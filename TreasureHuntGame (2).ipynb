{
 "cells": [
  {
   "cell_type": "markdown",
   "metadata": {},
   "source": [
    "# Treasure Hunt Game Notebook\n",
    "\n",
    "## Read and Review Your Starter Code\n",
    "The theme of this project is a popular treasure hunt game in which the player needs to find the treasure before the pirate does. While you will not be developing the entire game, you will write the part of the game that represents the intelligent agent, which is a pirate in this case. The pirate will try to find the optimal path to the treasure using deep Q-learning. \n",
    "\n",
    "You have been provided with two Python classes and this notebook to help you with this assignment. The first class, TreasureMaze.py, represents the environment, which includes a maze object defined as a matrix. The second class, GameExperience.py, stores the episodes – that is, all the states that come in between the initial state and the terminal state. This is later used by the agent for learning by experience, called \"exploration\". This notebook shows how to play a game. Your task is to complete the deep Q-learning implementation for which a skeleton implementation has been provided. The code blocks you will need to complete has #TODO as a header.\n",
    "\n",
    "First, read and review the next few code and instruction blocks to understand the code that you have been given."
   ]
  },
  {
   "cell_type": "code",
   "execution_count": 1,
   "metadata": {},
   "outputs": [
    {
     "name": "stdout",
     "output_type": "stream",
     "text": [
      "Requirement already satisfied: numpy==1.26.4 in /home/codio/.pyenv/versions/3.11.2/lib/python3.11/site-packages (from -r requirements.txt (line 1)) (1.26.4)\n",
      "Requirement already satisfied: keras in /home/codio/.pyenv/versions/3.11.2/lib/python3.11/site-packages (from -r requirements.txt (line 2)) (3.11.3)\n",
      "Requirement already satisfied: tensorflow==2.19.0 in /home/codio/.pyenv/versions/3.11.2/lib/python3.11/site-packages (from -r requirements.txt (line 3)) (2.19.0)\n",
      "Requirement already satisfied: absl-py>=1.0.0 in /home/codio/.pyenv/versions/3.11.2/lib/python3.11/site-packages (from tensorflow==2.19.0->-r requirements.txt (line 3)) (2.3.1)\n",
      "Requirement already satisfied: astunparse>=1.6.0 in /home/codio/.pyenv/versions/3.11.2/lib/python3.11/site-packages (from tensorflow==2.19.0->-r requirements.txt (line 3)) (1.6.3)\n",
      "Requirement already satisfied: flatbuffers>=24.3.25 in /home/codio/.pyenv/versions/3.11.2/lib/python3.11/site-packages (from tensorflow==2.19.0->-r requirements.txt (line 3)) (25.9.23)\n",
      "Requirement already satisfied: gast!=0.5.0,!=0.5.1,!=0.5.2,>=0.2.1 in /home/codio/.pyenv/versions/3.11.2/lib/python3.11/site-packages (from tensorflow==2.19.0->-r requirements.txt (line 3)) (0.6.0)\n",
      "Requirement already satisfied: google-pasta>=0.1.1 in /home/codio/.pyenv/versions/3.11.2/lib/python3.11/site-packages (from tensorflow==2.19.0->-r requirements.txt (line 3)) (0.2.0)\n",
      "Requirement already satisfied: libclang>=13.0.0 in /home/codio/.pyenv/versions/3.11.2/lib/python3.11/site-packages (from tensorflow==2.19.0->-r requirements.txt (line 3)) (18.1.1)\n",
      "Requirement already satisfied: opt-einsum>=2.3.2 in /home/codio/.pyenv/versions/3.11.2/lib/python3.11/site-packages (from tensorflow==2.19.0->-r requirements.txt (line 3)) (3.4.0)\n",
      "Requirement already satisfied: packaging in /home/codio/.pyenv/versions/3.11.2/lib/python3.11/site-packages (from tensorflow==2.19.0->-r requirements.txt (line 3)) (23.0)\n",
      "Requirement already satisfied: protobuf!=4.21.0,!=4.21.1,!=4.21.2,!=4.21.3,!=4.21.4,!=4.21.5,<6.0.0dev,>=3.20.3 in /home/codio/.pyenv/versions/3.11.2/lib/python3.11/site-packages (from tensorflow==2.19.0->-r requirements.txt (line 3)) (5.29.5)\n",
      "Requirement already satisfied: requests<3,>=2.21.0 in /home/codio/.pyenv/versions/3.11.2/lib/python3.11/site-packages (from tensorflow==2.19.0->-r requirements.txt (line 3)) (2.30.0)\n",
      "Requirement already satisfied: setuptools in /home/codio/.pyenv/versions/3.11.2/lib/python3.11/site-packages (from tensorflow==2.19.0->-r requirements.txt (line 3)) (65.5.0)\n",
      "Requirement already satisfied: six>=1.12.0 in /home/codio/.pyenv/versions/3.11.2/lib/python3.11/site-packages (from tensorflow==2.19.0->-r requirements.txt (line 3)) (1.16.0)\n",
      "Requirement already satisfied: termcolor>=1.1.0 in /home/codio/.pyenv/versions/3.11.2/lib/python3.11/site-packages (from tensorflow==2.19.0->-r requirements.txt (line 3)) (3.1.0)\n",
      "Requirement already satisfied: typing-extensions>=3.6.6 in /home/codio/.pyenv/versions/3.11.2/lib/python3.11/site-packages (from tensorflow==2.19.0->-r requirements.txt (line 3)) (4.15.0)\n",
      "Requirement already satisfied: wrapt>=1.11.0 in /home/codio/.pyenv/versions/3.11.2/lib/python3.11/site-packages (from tensorflow==2.19.0->-r requirements.txt (line 3)) (1.17.3)\n",
      "Requirement already satisfied: grpcio<2.0,>=1.24.3 in /home/codio/.pyenv/versions/3.11.2/lib/python3.11/site-packages (from tensorflow==2.19.0->-r requirements.txt (line 3)) (1.75.1)\n",
      "Requirement already satisfied: tensorboard~=2.19.0 in /home/codio/.pyenv/versions/3.11.2/lib/python3.11/site-packages (from tensorflow==2.19.0->-r requirements.txt (line 3)) (2.19.0)\n",
      "Requirement already satisfied: h5py>=3.11.0 in /home/codio/.pyenv/versions/3.11.2/lib/python3.11/site-packages (from tensorflow==2.19.0->-r requirements.txt (line 3)) (3.14.0)\n",
      "Requirement already satisfied: ml-dtypes<1.0.0,>=0.5.1 in /home/codio/.pyenv/versions/3.11.2/lib/python3.11/site-packages (from tensorflow==2.19.0->-r requirements.txt (line 3)) (0.5.3)\n",
      "Requirement already satisfied: tensorflow-io-gcs-filesystem>=0.23.1 in /home/codio/.pyenv/versions/3.11.2/lib/python3.11/site-packages (from tensorflow==2.19.0->-r requirements.txt (line 3)) (0.37.1)\n",
      "Requirement already satisfied: rich in /home/codio/.pyenv/versions/3.11.2/lib/python3.11/site-packages (from keras->-r requirements.txt (line 2)) (14.1.0)\n",
      "Requirement already satisfied: namex in /home/codio/.pyenv/versions/3.11.2/lib/python3.11/site-packages (from keras->-r requirements.txt (line 2)) (0.1.0)\n",
      "Requirement already satisfied: optree in /home/codio/.pyenv/versions/3.11.2/lib/python3.11/site-packages (from keras->-r requirements.txt (line 2)) (0.17.0)\n",
      "Requirement already satisfied: wheel<1.0,>=0.23.0 in /home/codio/.pyenv/versions/3.11.2/lib/python3.11/site-packages (from astunparse>=1.6.0->tensorflow==2.19.0->-r requirements.txt (line 3)) (0.45.1)\n",
      "Requirement already satisfied: charset-normalizer<4,>=2 in /home/codio/.pyenv/versions/3.11.2/lib/python3.11/site-packages (from requests<3,>=2.21.0->tensorflow==2.19.0->-r requirements.txt (line 3)) (2.1.1)\n",
      "Requirement already satisfied: idna<4,>=2.5 in /home/codio/.pyenv/versions/3.11.2/lib/python3.11/site-packages (from requests<3,>=2.21.0->tensorflow==2.19.0->-r requirements.txt (line 3)) (3.4)\n",
      "Requirement already satisfied: urllib3<3,>=1.21.1 in /home/codio/.pyenv/versions/3.11.2/lib/python3.11/site-packages (from requests<3,>=2.21.0->tensorflow==2.19.0->-r requirements.txt (line 3)) (2.0.2)\n",
      "Requirement already satisfied: certifi>=2017.4.17 in /home/codio/.pyenv/versions/3.11.2/lib/python3.11/site-packages (from requests<3,>=2.21.0->tensorflow==2.19.0->-r requirements.txt (line 3)) (2023.5.7)\n",
      "Requirement already satisfied: markdown>=2.6.8 in /home/codio/.pyenv/versions/3.11.2/lib/python3.11/site-packages (from tensorboard~=2.19.0->tensorflow==2.19.0->-r requirements.txt (line 3)) (3.9)\n",
      "Requirement already satisfied: tensorboard-data-server<0.8.0,>=0.7.0 in /home/codio/.pyenv/versions/3.11.2/lib/python3.11/site-packages (from tensorboard~=2.19.0->tensorflow==2.19.0->-r requirements.txt (line 3)) (0.7.2)\n",
      "Requirement already satisfied: werkzeug>=1.0.1 in /home/codio/.pyenv/versions/3.11.2/lib/python3.11/site-packages (from tensorboard~=2.19.0->tensorflow==2.19.0->-r requirements.txt (line 3)) (2.0.0)\n",
      "Requirement already satisfied: markdown-it-py>=2.2.0 in /home/codio/.pyenv/versions/3.11.2/lib/python3.11/site-packages (from rich->keras->-r requirements.txt (line 2)) (4.0.0)\n",
      "Requirement already satisfied: pygments<3.0.0,>=2.13.0 in /home/codio/.pyenv/versions/3.11.2/lib/python3.11/site-packages (from rich->keras->-r requirements.txt (line 2)) (2.15.1)\n",
      "Requirement already satisfied: mdurl~=0.1 in /home/codio/.pyenv/versions/3.11.2/lib/python3.11/site-packages (from markdown-it-py>=2.2.0->rich->keras->-r requirements.txt (line 2)) (0.1.2)\n",
      "\n",
      "\u001b[1m[\u001b[0m\u001b[34;49mnotice\u001b[0m\u001b[1;39;49m]\u001b[0m\u001b[39;49m A new release of pip is available: \u001b[0m\u001b[31;49m23.1.2\u001b[0m\u001b[39;49m -> \u001b[0m\u001b[32;49m25.2\u001b[0m\n",
      "\u001b[1m[\u001b[0m\u001b[34;49mnotice\u001b[0m\u001b[1;39;49m]\u001b[0m\u001b[39;49m To update, run: \u001b[0m\u001b[32;49mpip install --upgrade pip\u001b[0m\n"
     ]
    }
   ],
   "source": [
    "!pip install -r requirements.txt"
   ]
  },
  {
   "cell_type": "code",
   "execution_count": 2,
   "metadata": {},
   "outputs": [
    {
     "name": "stderr",
     "output_type": "stream",
     "text": [
      "2025-10-13 02:27:30.179088: I tensorflow/core/util/port.cc:153] oneDNN custom operations are on. You may see slightly different numerical results due to floating-point round-off errors from different computation orders. To turn them off, set the environment variable `TF_ENABLE_ONEDNN_OPTS=0`.\n",
      "2025-10-13 02:27:30.233020: I external/local_xla/xla/tsl/cuda/cudart_stub.cc:32] Could not find cuda drivers on your machine, GPU will not be used.\n",
      "2025-10-13 02:27:31.414802: I external/local_xla/xla/tsl/cuda/cudart_stub.cc:32] Could not find cuda drivers on your machine, GPU will not be used.\n",
      "2025-10-13 02:27:31.698279: E external/local_xla/xla/stream_executor/cuda/cuda_fft.cc:467] Unable to register cuFFT factory: Attempting to register factory for plugin cuFFT when one has already been registered\n",
      "WARNING: All log messages before absl::InitializeLog() is called are written to STDERR\n",
      "E0000 00:00:1760322452.434264     264 cuda_dnn.cc:8579] Unable to register cuDNN factory: Attempting to register factory for plugin cuDNN when one has already been registered\n",
      "E0000 00:00:1760322452.599152     264 cuda_blas.cc:1407] Unable to register cuBLAS factory: Attempting to register factory for plugin cuBLAS when one has already been registered\n",
      "W0000 00:00:1760322454.008832     264 computation_placer.cc:177] computation placer already registered. Please check linkage and avoid linking the same target more than once.\n",
      "W0000 00:00:1760322454.008873     264 computation_placer.cc:177] computation placer already registered. Please check linkage and avoid linking the same target more than once.\n",
      "W0000 00:00:1760322454.008877     264 computation_placer.cc:177] computation placer already registered. Please check linkage and avoid linking the same target more than once.\n",
      "W0000 00:00:1760322454.008880     264 computation_placer.cc:177] computation placer already registered. Please check linkage and avoid linking the same target more than once.\n",
      "2025-10-13 02:27:34.100507: I tensorflow/core/platform/cpu_feature_guard.cc:210] This TensorFlow binary is optimized to use available CPU instructions in performance-critical operations.\n",
      "To enable the following instructions: AVX2 AVX512F AVX512_VNNI FMA, in other operations, rebuild TensorFlow with the appropriate compiler flags.\n"
     ]
    }
   ],
   "source": [
    "from __future__ import print_function\n",
    "import os, sys, time, datetime, json, random\n",
    "import numpy as np\n",
    "import matplotlib.pyplot as plt\n",
    "from keras.models import Sequential\n",
    "from keras.layers import Dense, Activation\n",
    "from keras.optimizers import SGD , Adam, RMSprop\n",
    "from keras.layers import PReLU\n",
    "from TreasureMaze import TreasureMaze\n",
    "from GameExperience import GameExperience\n",
    "%matplotlib inline\n",
    "\n",
    "## Ignore the warnings below"
   ]
  },
  {
   "cell_type": "markdown",
   "metadata": {},
   "source": [
    "The following code block contains an 8x8 matrix that will be used as a maze object:"
   ]
  },
  {
   "cell_type": "code",
   "execution_count": 3,
   "metadata": {},
   "outputs": [],
   "source": [
    "maze = np.array([\n",
    "    [ 1.,  0.,  1.,  1.,  1.,  1.,  1.,  1.],\n",
    "    [ 1.,  0.,  1.,  1.,  1.,  0.,  1.,  1.],\n",
    "    [ 1.,  1.,  1.,  1.,  0.,  1.,  0.,  1.],\n",
    "    [ 1.,  1.,  1.,  0.,  1.,  1.,  1.,  1.],\n",
    "    [ 1.,  1.,  0.,  1.,  1.,  1.,  1.,  1.],\n",
    "    [ 1.,  1.,  1.,  0.,  1.,  0.,  0.,  0.],\n",
    "    [ 1.,  1.,  1.,  0.,  1.,  1.,  1.,  1.],\n",
    "    [ 1.,  1.,  1.,  1.,  0.,  1.,  1.,  1.]\n",
    "])"
   ]
  },
  {
   "cell_type": "markdown",
   "metadata": {},
   "source": [
    "This helper function allows a visual representation of the maze object:"
   ]
  },
  {
   "cell_type": "code",
   "execution_count": 4,
   "metadata": {},
   "outputs": [],
   "source": [
    "def show(qmaze):\n",
    "    plt.grid('on')\n",
    "    nrows, ncols = qmaze.maze.shape\n",
    "    ax = plt.gca()\n",
    "    ax.set_xticks(np.arange(0.5, nrows, 1))\n",
    "    ax.set_yticks(np.arange(0.5, ncols, 1))\n",
    "    ax.set_xticklabels([])\n",
    "    ax.set_yticklabels([])\n",
    "    canvas = np.copy(qmaze.maze)\n",
    "    for row,col in qmaze.visited:\n",
    "        canvas[row,col] = 0.6\n",
    "    pirate_row, pirate_col, _ = qmaze.state\n",
    "    canvas[pirate_row, pirate_col] = 0.3   # pirate cell\n",
    "    canvas[nrows-1, ncols-1] = 0.9 # treasure cell\n",
    "    img = plt.imshow(canvas, interpolation='none', cmap='gray')\n",
    "    return img"
   ]
  },
  {
   "cell_type": "markdown",
   "metadata": {},
   "source": [
    "The pirate agent can move in four directions: left, right, up, and down. \n",
    "\n",
    "While the agent primarily learns by experience through exploitation, often, the agent can choose to explore the environment to find previously undiscovered paths. This is called \"exploration\" and is defined by epsilon. This value is typically a lower value such as 0.1, which means for every ten attempts, the agent will attempt to learn by experience nine times and will randomly explore a new path one time. You are encouraged to try various values for the exploration factor and see how the algorithm performs."
   ]
  },
  {
   "cell_type": "code",
   "execution_count": 5,
   "metadata": {},
   "outputs": [],
   "source": [
    "LEFT = 0\n",
    "UP = 1\n",
    "RIGHT = 2\n",
    "DOWN = 3\n",
    "\n",
    "\n",
    "# Exploration factor\n",
    "epsilon = 0.1\n",
    "\n",
    "# Actions dictionary\n",
    "actions_dict = {\n",
    "    LEFT: 'left',\n",
    "    UP: 'up',\n",
    "    RIGHT: 'right',\n",
    "    DOWN: 'down',\n",
    "}\n",
    "\n",
    "num_actions = len(actions_dict)\n"
   ]
  },
  {
   "cell_type": "markdown",
   "metadata": {},
   "source": [
    "The sample code block and output below show creating a maze object and performing one action (DOWN), which returns the reward. The resulting updated environment is visualized."
   ]
  },
  {
   "cell_type": "code",
   "execution_count": 6,
   "metadata": {},
   "outputs": [
    {
     "name": "stdout",
     "output_type": "stream",
     "text": [
      "reward= -0.04\n"
     ]
    },
    {
     "data": {
      "text/plain": [
       "<matplotlib.image.AxesImage at 0x7a80275a5c50>"
      ]
     },
     "execution_count": 6,
     "metadata": {},
     "output_type": "execute_result"
    },
    {
     "data": {
      "image/png": "[encoded data removed]",
      "text/plain": [
       "<Figure size 640x480 with 1 Axes>"
      ]
     },
     "metadata": {},
     "output_type": "display_data"
    }
   ],
   "source": [
    "qmaze = TreasureMaze(maze)\n",
    "canvas, reward, game_over = qmaze.act(DOWN)\n",
    "print(\"reward=\", reward)\n",
    "show(qmaze)"
   ]
  },
  {
   "cell_type": "markdown",
   "metadata": {},
   "source": [
    "This function simulates a full game based on the provided trained model. The other parameters include the TreasureMaze object and the starting position of the pirate."
   ]
  },
  {
   "cell_type": "code",
   "execution_count": 7,
   "metadata": {},
   "outputs": [],
   "source": [
    "def play_game(model, qmaze, pirate_cell):\n",
    "    qmaze.reset(pirate_cell)\n",
    "    envstate = qmaze.observe()\n",
    "    while True:\n",
    "        prev_envstate = envstate\n",
    "        # get next action\n",
    "        q = model.predict(prev_envstate)\n",
    "        action = np.argmax(q[0])\n",
    "\n",
    "        # apply action, get rewards and new state\n",
    "        envstate, reward, game_status = qmaze.act(action)\n",
    "        if game_status == 'win':\n",
    "            return True\n",
    "        elif game_status == 'lose':\n",
    "            return False"
   ]
  },
  {
   "cell_type": "markdown",
   "metadata": {},
   "source": [
    "This function helps you to determine whether the pirate can win any game at all. If your maze is not well designed, the pirate may not win any game at all. In this case, your training would not yield any result. The provided maze in this notebook ensures that there is a path to win and you can run this method to check."
   ]
  },
  {
   "cell_type": "code",
   "execution_count": 8,
   "metadata": {},
   "outputs": [],
   "source": [
    "def completion_check(model, qmaze):\n",
    "    for cell in qmaze.free_cells:\n",
    "        if not qmaze.valid_actions(cell):\n",
    "            return False\n",
    "        if not play_game(model, qmaze, cell):\n",
    "            return False\n",
    "    return True"
   ]
  },
  {
   "cell_type": "markdown",
   "metadata": {},
   "source": [
    "The code you have been given in this block will build the neural network model. Review the code and note the number of layers, as well as the activation, optimizer, and loss functions that are used to train the model."
   ]
  },
  {
   "cell_type": "code",
   "execution_count": 9,
   "metadata": {},
   "outputs": [],
   "source": [
    "def build_model(maze):\n",
    "    model = Sequential()\n",
    "    model.add(Dense(maze.size, input_shape=(maze.size,)))\n",
    "    model.add(PReLU())\n",
    "    model.add(Dense(maze.size))\n",
    "    model.add(PReLU())\n",
    "    model.add(Dense(num_actions))\n",
    "    model.compile(optimizer='adam', loss='mse')\n",
    "    return model"
   ]
  },
  {
   "cell_type": "markdown",
   "metadata": {},
   "source": [
    "# #TODO: Complete the Q-Training Algorithm Code Block\n",
    "\n",
    "This is your deep Q-learning implementation. The goal of your deep Q-learning implementation is to find the best possible navigation sequence that results in reaching the treasure cell while maximizing the reward. In your implementation, you need to determine the optimal number of epochs to achieve a 100% win rate.\n",
    "\n",
    "You will need to complete the section starting with #pseudocode. The pseudocode has been included for you."
   ]
  },
  {
   "cell_type": "code",
   "execution_count": 10,
   "metadata": {},
   "outputs": [],
   "source": [
    "def qtrain(model, maze, **opt):\n",
    "    # exploration factor\n",
    "    global epsilon \n",
    "    \n",
    "    # Helper function for readable time display\n",
    "    def format_time(seconds):\n",
    "        if seconds < 400:\n",
    "            s = float(seconds)\n",
    "            return \"%.1f seconds\" % (s,)\n",
    "        elif seconds < 4000:\n",
    "            m = seconds / 60.0\n",
    "            return \"%.2f minutes\" % (m,)\n",
    "        else:\n",
    "            h = seconds / 3600.0\n",
    "            return \"%.2f hours\" % (h,)\n",
    "\n",
    "    # Number of epochs\n",
    "    n_epoch = opt.get('n_epoch', 15000)\n",
    "    \n",
    "    # Maximum memory to store episodes\n",
    "    max_memory = opt.get('max_memory', 1000)\n",
    "    \n",
    "    # Maximum data size for training\n",
    "    data_size = opt.get('data_size', 50)\n",
    "    \n",
    "    # Frequency of target network updates\n",
    "    target_update_freq = opt.get('target_update_freq', 50)\n",
    "    \n",
    "    # Start time\n",
    "    start_time = datetime.datetime.now()\n",
    "    \n",
    "    # Construct environment/game from numpy array: maze (see argument above)\n",
    "    qmaze = TreasureMaze(maze)\n",
    "    \n",
    "    # Target Network to better guide training\n",
    "    target_model = clone_model(model)\n",
    "    target_model.set_weights(model.get_weights())\n",
    "    \n",
    "    # Initialize experience replay object\n",
    "    experience = GameExperience(model, target_model, max_memory=max_memory)\n",
    "\n",
    "    win_history = []  # history of win/lose game\n",
    "    hsize = qmaze.maze.size // 2  # history window size\n",
    "    win_rate = 0.0\n",
    "    epsilon_min = 0.05\n",
    "    epsilon_decay = 0.995\n",
    "\n",
    "    # START_HERE\n",
    "    for epoch in range(n_epoch):  \n",
    "        # Reset the environment at a random starting cell\n",
    "        agent_cell = random.choice(qmaze.free_cells)\n",
    "        qmaze.reset(agent_cell)\n",
    "\n",
    "        # Set the initial environment state\n",
    "        envstate = qmaze.observe()\n",
    "        game_over = False\n",
    "        loss = 0.0\n",
    "        n_episodes = 0\n",
    "\n",
    "        # While game status is not game over:\n",
    "        while not game_over:\n",
    "            previous_envstate = envstate\n",
    "\n",
    "            # Decide on an action: exploration vs. exploitation\n",
    "            valid_actions = qmaze.valid_actions()\n",
    "            if np.random.rand() < epsilon:\n",
    "                action = random.choice(valid_actions)  # Explore\n",
    "            else:\n",
    "                q_values = model(previous_envstate, training=False).numpy()[0]\n",
    "                action = np.argmax(q_values)  # Exploit\n",
    "\n",
    "            # Retrieve values from act() method\n",
    "            envstate, reward, game_status = qmaze.act(action)\n",
    "\n",
    "            # Track wins/losses from the game_status using win_history\n",
    "            if game_status == 'win':\n",
    "                win_history.append(1)\n",
    "                game_over = True\n",
    "            elif game_status == 'lose':\n",
    "                win_history.append(0)\n",
    "                game_over = True\n",
    "\n",
    "            # Store the episode in the Experience replay object\n",
    "            episode = [previous_envstate, action, reward, envstate, game_status in ('win', 'lose')]\n",
    "            experience.remember(episode)\n",
    "            n_episodes += 1\n",
    "\n",
    "            # Train neural network model and evaluate loss\n",
    "            inputs, targets = experience.get_data(batch_size=data_size)\n",
    "            batch_loss = model.train_on_batch(inputs, targets)\n",
    "            loss += batch_loss\n",
    "\n",
    "        # Update target model weights occasionally\n",
    "        if epoch % target_update_freq == 0:\n",
    "            target_model.set_weights(model.get_weights())\n",
    "\n",
    "        # Compute win rate\n",
    "        if len(win_history) >= hsize:\n",
    "            win_rate = sum(win_history[-hsize:]) / hsize\n",
    "        else:\n",
    "            win_rate = sum(win_history) / len(win_history)\n",
    "\n",
    "        # Adjust epsilon\n",
    "        epsilon = max(epsilon_min, epsilon * epsilon_decay)\n",
    "\n",
    "        # Print training status\n",
    "        dt = datetime.datetime.now() - start_time\n",
    "        t = format_time(dt.total_seconds())\n",
    "        print(\"Epoch: {:03d}/{:d} | Loss: {:.4f} | Episodes: {:d} | Win count: {:d} | Win rate: {:.3f} | time: {}\".format(\n",
    "            epoch, n_epoch-1, loss, n_episodes, sum(win_history), win_rate, t))\n",
    "\n",
    "        # If win rate above threshold and passes completion check, stop training\n",
    "        if win_rate >= 0.9 and completion_check(model, qmaze):\n",
    "            print(f\"Reached 100% win rate at epoch {epoch}\")\n",
    "            break\n",
    "\n",
    "    total_time = format_time((datetime.datetime.now() - start_time).total_seconds())\n",
    "    print(\"Training complete in:\", total_time)"
   ]
  },
  {
   "cell_type": "markdown",
   "metadata": {},
   "source": [
    "## Test Your Model\n",
    "\n",
    "Now we will start testing the deep Q-learning implementation. To begin, select **Cell**, then **Run All** from the menu bar. This will run your notebook. As it runs, you should see output begin to appear beneath the next few cells. The code below creates an instance of TreasureMaze."
   ]
  },
  {
   "cell_type": "code",
   "execution_count": 11,
   "metadata": {},
   "outputs": [
    {
     "data": {
      "text/plain": [
       "<matplotlib.image.AxesImage at 0x7a802553fdd0>"
      ]
     },
     "execution_count": 11,
     "metadata": {},
     "output_type": "execute_result"
    },
    {
     "data": {
      "image/png": "[encoded data removed]",
      "text/plain": [
       "<Figure size 640x480 with 1 Axes>"
      ]
     },
     "metadata": {},
     "output_type": "display_data"
    }
   ],
   "source": [
    "qmaze = TreasureMaze(maze)\n",
    "show(qmaze)"
   ]
  },
  {
   "cell_type": "markdown",
   "metadata": {},
   "source": [
    "In the next code block, you will build your model and train it using deep Q-learning. Note: This step takes several minutes to fully run."
   ]
  },
  {
   "cell_type": "code",
   "execution_count": 12,
   "metadata": {},
   "outputs": [],
   "source": [
    "def randomly_select_free_cell(qmaze):\n",
    "    # Find all free (non-wall) cells in the maze\n",
    "    free_cells = [(r, c) for r in range(qmaze.rows)\n",
    "                         for c in range(qmaze.cols)\n",
    "                         if qmaze.maze[r, c] == 0]  # assuming 0 means free\n",
    "    return random.choice(free_cells)"
   ]
  },
  {
   "cell_type": "code",
   "execution_count": 14,
   "metadata": {},
   "outputs": [
    {
     "ename": "NameError",
     "evalue": "name 'clone_model' is not defined",
     "output_type": "error",
     "traceback": [
      "\u001b[0;31m---------------------------------------------------------------------------\u001b[0m",
      "\u001b[0;31mNameError\u001b[0m                                 Traceback (most recent call last)",
      "Cell \u001b[0;32mIn[14], line 2\u001b[0m\n\u001b[1;32m      1\u001b[0m model \u001b[38;5;241m=\u001b[39m build_model(maze)\n\u001b[0;32m----> 2\u001b[0m \u001b[43mqtrain\u001b[49m\u001b[43m(\u001b[49m\u001b[43mmodel\u001b[49m\u001b[43m,\u001b[49m\u001b[43m \u001b[49m\u001b[43mmaze\u001b[49m\u001b[43m,\u001b[49m\u001b[43m \u001b[49m\u001b[43mepochs\u001b[49m\u001b[38;5;241;43m=\u001b[39;49m\u001b[38;5;241;43m1000\u001b[39;49m\u001b[43m,\u001b[49m\u001b[43m \u001b[49m\u001b[43mmax_memory\u001b[49m\u001b[38;5;241;43m=\u001b[39;49m\u001b[38;5;241;43m8\u001b[39;49m\u001b[38;5;241;43m*\u001b[39;49m\u001b[43mmaze\u001b[49m\u001b[38;5;241;43m.\u001b[39;49m\u001b[43msize\u001b[49m\u001b[43m,\u001b[49m\u001b[43m \u001b[49m\u001b[43mdata_size\u001b[49m\u001b[38;5;241;43m=\u001b[39;49m\u001b[38;5;241;43m32\u001b[39;49m\u001b[43m)\u001b[49m\n",
      "Cell \u001b[0;32mIn[10], line 36\u001b[0m, in \u001b[0;36mqtrain\u001b[0;34m(model, maze, **opt)\u001b[0m\n\u001b[1;32m     33\u001b[0m qmaze \u001b[38;5;241m=\u001b[39m TreasureMaze(maze)\n\u001b[1;32m     35\u001b[0m \u001b[38;5;66;03m# Target Network to better guide training\u001b[39;00m\n\u001b[0;32m---> 36\u001b[0m target_model \u001b[38;5;241m=\u001b[39m \u001b[43mclone_model\u001b[49m(model)\n\u001b[1;32m     37\u001b[0m target_model\u001b[38;5;241m.\u001b[39mset_weights(model\u001b[38;5;241m.\u001b[39mget_weights())\n\u001b[1;32m     39\u001b[0m \u001b[38;5;66;03m# Initialize experience replay object\u001b[39;00m\n",
      "\u001b[0;31mNameError\u001b[0m: name 'clone_model' is not defined"
     ]
    }
   ],
   "source": [
    "model = build_model(maze)\n",
    "qtrain(model, maze, epochs=1000, max_memory=8*maze.size, data_size=32)"
   ]
  },
  {
   "cell_type": "markdown",
   "metadata": {},
   "source": [
    "This cell will check to see if the model passes the completion check. Note: This could take several minutes."
   ]
  },
  {
   "cell_type": "code",
   "execution_count": null,
   "metadata": {},
   "outputs": [],
   "source": [
    "completion_check(model, qmaze)\n",
    "show(qmaze)"
   ]
  },
  {
   "cell_type": "markdown",
   "metadata": {},
   "source": [
    "This cell will test your model for one game. It will start the pirate at the top-left corner and run play_game. The agent should find a path from the starting position to the target (treasure). The treasure is located in the bottom-right corner."
   ]
  },
  {
   "cell_type": "code",
   "execution_count": null,
   "metadata": {},
   "outputs": [],
   "source": [
    "pirate_start = (0, 0)\n",
    "play_game(model, qmaze, pirate_start)\n",
    "show(qmaze)"
   ]
  },
  {
   "cell_type": "markdown",
   "metadata": {},
   "source": [
    "## Save and Submit Your Work\n",
    "After you have finished creating the code for your notebook, save your work.\n",
    "Make sure that your notebook contains your name in the filename (e.g. Doe_Jane_ProjectTwo.html). Download this file as an .html file clicking on ***file*** in *Jupyter Notebook*, navigating down to ***Download as*** and clicking on ***.html***. \n",
    "Download a copy of your .html file and submit it to Brightspace."
   ]
  },
  {
   "cell_type": "code",
   "execution_count": null,
   "metadata": {},
   "outputs": [],
   "source": []
  }
 ],
 "metadata": {
  "kernelspec": {
   "display_name": "Python 3 (ipykernel)",
   "language": "python",
   "name": "python3"
  },
  "language_info": {
   "codemirror_mode": {
    "name": "ipython",
    "version": 3
   },
   "file_extension": ".py",
   "mimetype": "text/x-python",
   "name": "python",
   "nbconvert_exporter": "python",
   "pygments_lexer": "ipython3",
   "version": "3.11.2"
  }
 },
 "nbformat": 4,
 "nbformat_minor": 2
}
